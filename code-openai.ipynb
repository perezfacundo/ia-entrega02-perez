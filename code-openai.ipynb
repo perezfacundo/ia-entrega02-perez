!pip install openai==0.28

import openai

openai.api_key = "OPENAI_API_KEY"

# Contexto
context = 'Seras un ayudante. Proveerás de un ejercicio didáctico a resolver que diseñarás a partir de los parámetros que te brindará el usuario.'

#Prompt (input del usuario)
prompt = "Necesito un ejercicio para resolver. La materia es aplicaciones web, el tema es angular. La dificultad es avanzada"


# Hacer la petición
conversation = [
    {"role": "system", "content": context},
    {"role": "user", "content": prompt}
]

response = openai.ChatCompletion.create(
    model='gpt-3.5-turbo',
    messages=conversation,
    max_tokens=500,
)

message = response.choices[0]['message']
print("{}: {}".format(message['role'], message['content']))

#Storage the response in a variable to use it
story_made = response['choices'][0]['message']['content'].strip()

#Use the variable
print("Respuesta:", story_made)
