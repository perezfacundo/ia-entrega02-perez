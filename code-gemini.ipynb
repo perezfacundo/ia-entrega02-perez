import google.generativeai as genai

genai.configure(api_key="TU_CLAVE_API_DE_GEMINI")

model = genai.GenerativeModel("gemini-1.5-flash")

# Establecemos el contexto inicial
context = "Seras un ayudante. Proveerás de un ejercicio didáctico a resolver que diseñarás a partir de los parámetros que te brindará el usuario."

# Prompt inicial
prompt = "Necesito un ejercicio para resolver. La materia es aplicaciones web, el tema es angular. La dificultad es avanzada"

# Mostrar la respuesta
response = model.generate_text(prompt)
print({response.text})

    
